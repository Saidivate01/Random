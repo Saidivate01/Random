{
  "nbformat": 4,
  "nbformat_minor": 0,
  "metadata": {
    "colab": {
      "provenance": []
    },
    "kernelspec": {
      "name": "python3",
      "display_name": "Python 3"
    },
    "language_info": {
      "name": "python"
    }
  },
  "cells": [
    {
      "cell_type": "code",
      "source": [
        "import nbformat\n",
        "from nbconvert import PythonExporter\n",
        "import os\n",
        "import runpy"
      ],
      "metadata": {
        "id": "qFEVMhTpE8ZR"
      },
      "execution_count": 9,
      "outputs": []
    },
    {
      "cell_type": "code",
      "source": [
        "def execute_notebook(notebook_path):\n",
        "    with open(notebook_path, 'r', encoding='utf-8') as f:\n",
        "        notebook = nbformat.read(f, as_version=4)\n",
        "    exporter = PythonExporter()\n",
        "    source, _ = exporter.from_notebook_node(notebook)\n",
        "    script_path = 'temp_script.py'\n",
        "    with open(script_path, 'w', encoding='utf-8') as f:\n",
        "        f.write(source)\n",
        "    runpy.run_path(script_path)\n",
        "    os.remove(script_path)"
      ],
      "metadata": {
        "id": "gd1qfjXeMBha"
      },
      "execution_count": 10,
      "outputs": []
    },
    {
      "cell_type": "code",
      "source": [
        "def main():\n",
        "    user_input = input(\"Which recommendation do you want: anime or movie? \").strip().lower()\n",
        "    if user_input == \"anime\":\n",
        "        execute_notebook('/content/drive/MyDrive/Colab Notebooks/AnimeRec.ipynb')\n",
        "    elif user_input == \"movie\":\n",
        "        execute_notebook('/content/drive/MyDrive/Colab Notebooks/movierec.ipynb')\n",
        "    else:\n",
        "        print(\"Invalid input. Please type 'anime' or 'movie'.\")"
      ],
      "metadata": {
        "id": "yyfjLVoDTGyU"
      },
      "execution_count": 11,
      "outputs": []
    },
    {
      "cell_type": "code",
      "source": [
        "if __name__ == \"__main__\":\n",
        "    main()"
      ],
      "metadata": {
        "colab": {
          "base_uri": "https://localhost:8080/"
        },
        "id": "E6ziu9juTJWU",
        "outputId": "563f784f-af57-4d3f-b182-2fa9da631b10"
      },
      "execution_count": 12,
      "outputs": [
        {
          "output_type": "stream",
          "name": "stdout",
          "text": [
            "Which recommendation do you want: anime or movie? anime\n",
            "Enter a genre: horror\n",
            "Anime matching the genre 'horror':\n",
            "                                  Name  \\\n",
            "9                              Monster   \n",
            "23                Kenpuu Denki Berserk   \n",
            "28                               Akira   \n",
            "36                         Arc the Lad   \n",
            "39                         Blue Gender   \n",
            "...                                ...   \n",
            "14747                   Tenkuu Shinpan   \n",
            "14807                    Yami Shibai 8   \n",
            "14939           Akuma-kun (Shin Anime)   \n",
            "14948                     Mieruko-chan   \n",
            "14949  Higurashi no Naku Koro ni Sotsu   \n",
            "\n",
            "                                                  Genres  \n",
            "9      Drama, Horror, Mystery, Police, Psychological,...  \n",
            "23     Action, Adventure, Demons, Drama, Fantasy, Hor...  \n",
            "28     Action, Military, Sci-Fi, Adventure, Horror, S...  \n",
            "36            Action, Adventure, Fantasy, Horror, Sci-Fi  \n",
            "39     Adventure, Romance, Mecha, Military, Sci-Fi, H...  \n",
            "...                                                  ...  \n",
            "14747                            Action, Mystery, Horror  \n",
            "14807                     Dementia, Horror, Supernatural  \n",
            "14939             Horror, Demons, Supernatural, Thriller  \n",
            "14948                       Comedy, Horror, Supernatural  \n",
            "14949  Mystery, Dementia, Horror, Psychological, Supe...  \n",
            "\n",
            "[450 rows x 2 columns]\n"
          ]
        }
      ]
    },
    {
      "cell_type": "code",
      "source": [],
      "metadata": {
        "id": "kpkAbDegTeEH"
      },
      "execution_count": null,
      "outputs": []
    }
  ]
}
