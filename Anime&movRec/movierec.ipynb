{
  "nbformat": 4,
  "nbformat_minor": 0,
  "metadata": {
    "colab": {
      "provenance": []
    },
    "kernelspec": {
      "name": "python3",
      "display_name": "Python 3"
    },
    "language_info": {
      "name": "python"
    }
  },
  "cells": [
    {
      "cell_type": "code",
      "source": [
        "import pandas as pd\n",
        "from sklearn.feature_extraction.text import TfidfVectorizer\n",
        "from sklearn.metrics.pairwise import cosine_similarity"
      ],
      "metadata": {
        "id": "vbXLMfJeK3rc"
      },
      "execution_count": 1,
      "outputs": []
    },
    {
      "cell_type": "code",
      "source": [
        "def load_data():\n",
        "    movie = pd.read_csv('/content/drive/MyDrive/tmdb_5000_movies.csv')\n",
        "    return movie"
      ],
      "metadata": {
        "id": "dzl0FKf0QoQn"
      },
      "execution_count": 2,
      "outputs": []
    },
    {
      "cell_type": "code",
      "source": [
        "def create_similarity_matrix(movie):\n",
        "    tfidf = TfidfVectorizer(stop_words='english')\n",
        "    movie['genres'] = movie['genres'].fillna('')\n",
        "    tfidf_matrix = tfidf.fit_transform(movie['genres'])\n",
        "    cosine_sim = cosine_similarity(tfidf_matrix, tfidf_matrix)\n",
        "    indices = pd.Series(movie.index, index=movie['original_title']).drop_duplicates()\n",
        "    return cosine_sim, indices, tfidf"
      ],
      "metadata": {
        "id": "HYnnIXTNUfFh"
      },
      "execution_count": 3,
      "outputs": []
    },
    {
      "cell_type": "code",
      "source": [
        "def get_movie_by_genre(movie, genre):\n",
        "    matched_movie = movie[movie['genres'].str.contains(genre, case=False, na=False)]\n",
        "    return matched_movie"
      ],
      "metadata": {
        "id": "OlaEPeY3Uhtz"
      },
      "execution_count": 4,
      "outputs": []
    },
    {
      "cell_type": "code",
      "source": [
        "movie = load_data()\n",
        "user_genre = input(\"Enter a genre: \")\n",
        "matched_movie = get_movie_by_genre(movie, user_genre)\n",
        "if not matched_movie.empty:\n",
        "    print(f\"movie matching the genre '{user_genre}':\")\n",
        "    print(matched_movie[['original_title', 'genres']])\n",
        "else:\n",
        "    print(f\"No movie found for the genre '{user_genre}'.\")"
      ],
      "metadata": {
        "colab": {
          "base_uri": "https://localhost:8080/"
        },
        "id": "OprBIIP0Ul0U",
        "outputId": "7dd6d7f0-393e-48dc-94e5-17aff09692e7"
      },
      "execution_count": 5,
      "outputs": [
        {
          "output_type": "stream",
          "name": "stdout",
          "text": [
            "Enter a genre: comedy\n",
            "movie matching the genre 'comedy':\n",
            "                    original_title  \\\n",
            "18                  Men in Black 3   \n",
            "40                          Cars 2   \n",
            "42                     Toy Story 3   \n",
            "55                           Brave   \n",
            "58                     Rush Hour 3   \n",
            "...                            ...   \n",
            "4786              Breaking Upwards   \n",
            "4788                Pink Flamingos   \n",
            "4794  Sanctuary: Quite a Conundrum   \n",
            "4799                     Newlyweds   \n",
            "4800     Signed, Sealed, Delivered   \n",
            "\n",
            "                                                 genres  \n",
            "18    [{\"id\": 28, \"name\": \"Action\"}, {\"id\": 35, \"nam...  \n",
            "40    [{\"id\": 16, \"name\": \"Animation\"}, {\"id\": 10751...  \n",
            "42    [{\"id\": 16, \"name\": \"Animation\"}, {\"id\": 10751...  \n",
            "55    [{\"id\": 16, \"name\": \"Animation\"}, {\"id\": 12, \"...  \n",
            "58    [{\"id\": 28, \"name\": \"Action\"}, {\"id\": 35, \"nam...  \n",
            "...                                                 ...  \n",
            "4786  [{\"id\": 35, \"name\": \"Comedy\"}, {\"id\": 10749, \"...  \n",
            "4788  [{\"id\": 27, \"name\": \"Horror\"}, {\"id\": 35, \"nam...  \n",
            "4794  [{\"id\": 53, \"name\": \"Thriller\"}, {\"id\": 27, \"n...  \n",
            "4799  [{\"id\": 35, \"name\": \"Comedy\"}, {\"id\": 10749, \"...  \n",
            "4800  [{\"id\": 35, \"name\": \"Comedy\"}, {\"id\": 18, \"nam...  \n",
            "\n",
            "[1722 rows x 2 columns]\n"
          ]
        }
      ]
    },
    {
      "cell_type": "code",
      "source": [],
      "metadata": {
        "id": "4rt2EET0U6YQ"
      },
      "execution_count": null,
      "outputs": []
    }
  ]
}
