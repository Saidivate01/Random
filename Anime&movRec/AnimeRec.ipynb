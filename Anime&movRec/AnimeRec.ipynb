{
  "nbformat": 4,
  "nbformat_minor": 0,
  "metadata": {
    "colab": {
      "provenance": []
    },
    "kernelspec": {
      "name": "python3",
      "display_name": "Python 3"
    },
    "language_info": {
      "name": "python"
    }
  },
  "cells": [
    {
      "cell_type": "code",
      "source": [
        "import pandas as pd\n",
        "from sklearn.feature_extraction.text import TfidfVectorizer\n",
        "from sklearn.metrics.pairwise import cosine_similarity"
      ],
      "metadata": {
        "id": "8cDPau3vYMxD"
      },
      "execution_count": 1,
      "outputs": []
    },
    {
      "cell_type": "code",
      "source": [
        "def load_data():\n",
        "    anime = pd.read_csv('/content/drive/MyDrive/anime-filtered.csv')\n",
        "    return anime"
      ],
      "metadata": {
        "id": "kq38mD3hnzFZ"
      },
      "execution_count": 2,
      "outputs": []
    },
    {
      "cell_type": "code",
      "source": [
        "def create_similarity_matrix(anime):\n",
        "    tfidf = TfidfVectorizer(stop_words='english')\n",
        "    anime['Genres'] = anime['Genres'].fillna('')\n",
        "    tfidf_matrix = tfidf.fit_transform(anime['Genres'])\n",
        "    cosine_sim = cosine_similarity(tfidf_matrix, tfidf_matrix)\n",
        "    indices = pd.Series(anime.index, index=anime['Name']).drop_duplicates()\n",
        "    return cosine_sim, indices, tfidf"
      ],
      "metadata": {
        "id": "u_KaBPYnTsLi"
      },
      "execution_count": 3,
      "outputs": []
    },
    {
      "cell_type": "code",
      "source": [
        "def get_anime_by_genre(anime, genre):\n",
        "    matched_anime = anime[anime['Genres'].str.contains(genre, case=False, na=False)]\n",
        "    return matched_anime"
      ],
      "metadata": {
        "id": "4dcr9nQRTwRQ"
      },
      "execution_count": 4,
      "outputs": []
    },
    {
      "cell_type": "code",
      "source": [
        "anime = load_data()\n",
        "user_genre = input(\"Enter a genre: \")\n",
        "matched_anime = get_anime_by_genre(anime, user_genre)\n",
        "if not matched_anime.empty:\n",
        "    print(f\"Anime matching the genre '{user_genre}':\")\n",
        "    print(matched_anime[['Name', 'Genres']])\n",
        "else:\n",
        "    print(f\"No anime found for the genre '{user_genre}'.\")"
      ],
      "metadata": {
        "colab": {
          "base_uri": "https://localhost:8080/"
        },
        "id": "w0Z-FUUbTznH",
        "outputId": "2aa94806-fef2-4ea1-ed75-a69b2eb5a8de"
      },
      "execution_count": 5,
      "outputs": [
        {
          "output_type": "stream",
          "name": "stdout",
          "text": [
            "Enter a genre: fantasy\n",
            "Anime matching the genre 'fantasy':\n",
            "                                                    Name  \\\n",
            "4                                         Bouken Ou Beet   \n",
            "11                                             One Piece   \n",
            "23                                  Kenpuu Denki Berserk   \n",
            "29                                           .hack//Sign   \n",
            "36                                           Arc the Lad   \n",
            "...                                                  ...   \n",
            "14937  Maou Gakuin no Futekigousha: Shijou Saikyou no...   \n",
            "14938  Maou Gakuin no Futekigousha: Shijou Saikyou no...   \n",
            "14941  Mahoutsukai no Yome: Nishi no Shounen to Seira...   \n",
            "14945                                   D_Cide Traumerei   \n",
            "14951                                      Scarlet Nexus   \n",
            "\n",
            "                                                  Genres  \n",
            "4              Adventure, Fantasy, Shounen, Supernatural  \n",
            "11     Action, Adventure, Comedy, Super Power, Drama,...  \n",
            "23     Action, Adventure, Demons, Drama, Fantasy, Hor...  \n",
            "29      Game, Sci-Fi, Adventure, Mystery, Magic, Fantasy  \n",
            "36            Action, Adventure, Fantasy, Horror, Sci-Fi  \n",
            "...                                                  ...  \n",
            "14937                             Magic, Fantasy, School  \n",
            "14938             Action, Demons, Magic, Fantasy, School  \n",
            "14941             Slice of Life, Magic, Fantasy, Shounen  \n",
            "14945           Action, Adventure, Drama, Magic, Fantasy  \n",
            "14951                                    Action, Fantasy  \n",
            "\n",
            "[2977 rows x 2 columns]\n"
          ]
        }
      ]
    },
    {
      "cell_type": "code",
      "source": [],
      "metadata": {
        "id": "_cb0865RUPb_"
      },
      "execution_count": null,
      "outputs": []
    }
  ]
}
