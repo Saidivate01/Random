{
 "cells": [
  {
   "cell_type": "code",
   "execution_count": 1,
   "id": "0d9125d5-2048-4360-b4e3-a6eec379b93b",
   "metadata": {},
   "outputs": [],
   "source": [
    "BOARD_EMPTY = 0\n",
    "BOARD_PLAYER_X = 1\n",
    "BOARD_PLAYER_O = -1"
   ]
  },
  {
   "cell_type": "code",
   "execution_count": 2,
   "id": "eba7fb3c-80da-4ad6-8232-c01088e42226",
   "metadata": {},
   "outputs": [],
   "source": [
    "def print_board(s):\n",
    "    def convert(num):\n",
    "        if num == BOARD_PLAYER_X:\n",
    "            return 'X'\n",
    "        if num == BOARD_PLAYER_O:\n",
    "            return 'O'\n",
    "        return '_'\n",
    "\n",
    "    i = 0\n",
    "    for _ in range(3):\n",
    "        for _ in range(3):\n",
    "            print(convert(s[i]), end=' ')\n",
    "            i += 1\n",
    "        print()"
   ]
  },
  {
   "cell_type": "code",
   "execution_count": 3,
   "id": "5ff190be-1721-4bcc-aa48-4363e65b777e",
   "metadata": {},
   "outputs": [],
   "source": [
    "from collections import Counter\n",
    "\n",
    "def player(s):\n",
    "    counter = Counter(s)\n",
    "    x_places = counter[1]\n",
    "    o_places = counter[-1]\n",
    "\n",
    "    if x_places + o_places == 9:\n",
    "        return None\n",
    "    elif x_places > o_places:\n",
    "        return BOARD_PLAYER_O\n",
    "    else:\n",
    "        return BOARD_PLAYER_X"
   ]
  },
  {
   "cell_type": "code",
   "execution_count": 4,
   "id": "35c6bce3-1301-40e3-b5a3-1149ef661bfb",
   "metadata": {},
   "outputs": [],
   "source": [
    "def actions(s):\n",
    "    play = player(s)\n",
    "    actions_list = [(play, i) for i in range(len(s)) if s[i] == BOARD_EMPTY]\n",
    "    return actions_list"
   ]
  },
  {
   "cell_type": "code",
   "execution_count": 5,
   "id": "dc7db319-a5c0-4999-a5c1-af8cc72a9fb2",
   "metadata": {},
   "outputs": [],
   "source": [
    "def result(s, a):\n",
    "    (play, index) = a\n",
    "    s_copy = s.copy()\n",
    "    s_copy[index] = play\n",
    "    return s_copy"
   ]
  },
  {
   "cell_type": "code",
   "execution_count": 6,
   "id": "397da0f1-4924-4552-b622-944683b4d15e",
   "metadata": {},
   "outputs": [],
   "source": [
    "def terminal(s):\n",
    "    win_combinations = [\n",
    "        (0, 1, 2), (3, 4, 5), (6, 7, 8),  \n",
    "        (0, 3, 6), (1, 4, 7), (2, 5, 8),  \n",
    "        (0, 4, 8), (2, 4, 6)              \n",
    "    ]\n",
    "    for (a, b, c) in win_combinations:\n",
    "        if s[a] == s[b] == s[c] != BOARD_EMPTY:\n",
    "            return s[a]\n",
    "    if BOARD_EMPTY not in s:\n",
    "        return 'Tie'\n",
    "    return None"
   ]
  },
  {
   "cell_type": "code",
   "execution_count": 7,
   "id": "02e3d65e-6659-41b0-a802-ed1c13f8dcf7",
   "metadata": {},
   "outputs": [
    {
     "name": "stdout",
     "output_type": "stream",
     "text": [
      "|------- WELCOME TO TIC TAC TOE -----------|\n",
      "You are X while the Computer is O\n",
      "\n",
      "\n",
      "It is your turn\n",
      "\n",
      "_ _ _ \n",
      "_ _ _ \n",
      "_ _ _ \n"
     ]
    },
    {
     "name": "stdin",
     "output_type": "stream",
     "text": [
      "Enter the number corresponding to your move [0-8]:  4\n"
     ]
    },
    {
     "name": "stdout",
     "output_type": "stream",
     "text": [
      "_ _ _ \n",
      "_ X _ \n",
      "_ _ _ \n",
      "\n",
      "\n",
      "The computer is playing its turn\n",
      "O _ _ \n",
      "_ X _ \n",
      "_ _ _ \n",
      "\n",
      "\n",
      "It is your turn\n",
      "\n",
      "O _ _ \n",
      "_ X _ \n",
      "_ _ _ \n"
     ]
    },
    {
     "name": "stdin",
     "output_type": "stream",
     "text": [
      "Enter the number corresponding to your move [0-8]:  6\n"
     ]
    },
    {
     "name": "stdout",
     "output_type": "stream",
     "text": [
      "O _ _ \n",
      "_ X _ \n",
      "X _ _ \n",
      "\n",
      "\n",
      "The computer is playing its turn\n",
      "O _ O \n",
      "_ X _ \n",
      "X _ _ \n",
      "\n",
      "\n",
      "It is your turn\n",
      "\n",
      "O _ O \n",
      "_ X _ \n",
      "X _ _ \n"
     ]
    },
    {
     "name": "stdin",
     "output_type": "stream",
     "text": [
      "Enter the number corresponding to your move [0-8]:  1\n"
     ]
    },
    {
     "name": "stdout",
     "output_type": "stream",
     "text": [
      "O X O \n",
      "_ X _ \n",
      "X _ _ \n",
      "\n",
      "\n",
      "The computer is playing its turn\n",
      "O X O \n",
      "_ X _ \n",
      "X O _ \n",
      "\n",
      "\n",
      "It is your turn\n",
      "\n",
      "O X O \n",
      "_ X _ \n",
      "X O _ \n"
     ]
    },
    {
     "name": "stdin",
     "output_type": "stream",
     "text": [
      "Enter the number corresponding to your move [0-8]:  3\n"
     ]
    },
    {
     "name": "stdout",
     "output_type": "stream",
     "text": [
      "O X O \n",
      "X X _ \n",
      "X O _ \n",
      "\n",
      "\n",
      "The computer is playing its turn\n",
      "O X O \n",
      "X X O \n",
      "X O _ \n",
      "\n",
      "\n",
      "It is your turn\n",
      "\n",
      "O X O \n",
      "X X O \n",
      "X O _ \n"
     ]
    },
    {
     "name": "stdin",
     "output_type": "stream",
     "text": [
      "Enter the number corresponding to your move [0-8]:  8\n"
     ]
    },
    {
     "name": "stdout",
     "output_type": "stream",
     "text": [
      "O X O \n",
      "X X O \n",
      "X O X \n",
      "It's a tie.\n"
     ]
    }
   ],
   "source": [
    "def minimax(s, depth, alpha, beta, maximizing_player):\n",
    "    term = terminal(s)\n",
    "    if term is not None:\n",
    "        if term == BOARD_PLAYER_X:\n",
    "            return -1\n",
    "        elif term == BOARD_PLAYER_O:\n",
    "            return 1\n",
    "        else:\n",
    "            return 0\n",
    "\n",
    "    if maximizing_player:\n",
    "        max_eval = float('-inf')\n",
    "        best_move = None\n",
    "        for action in actions(s):\n",
    "            eval = minimax(result(s, action), depth + 1, alpha, beta, False)\n",
    "            if eval > max_eval:\n",
    "                max_eval = eval\n",
    "                best_move = action\n",
    "            alpha = max(alpha, eval)\n",
    "            if beta <= alpha:\n",
    "                break\n",
    "        if depth == 0:\n",
    "            return best_move\n",
    "        return max_eval\n",
    "    else:\n",
    "        min_eval = float('inf')\n",
    "        best_move = None\n",
    "        for action in actions(s):\n",
    "            eval = minimax(result(s, action), depth + 1, alpha, beta, True)\n",
    "            if eval < min_eval:\n",
    "                min_eval = eval\n",
    "                best_move = action\n",
    "            beta = min(beta, eval)\n",
    "            if beta <= alpha:\n",
    "                break\n",
    "        if depth == 0:\n",
    "            return best_move\n",
    "        return min_eval\n",
    "\n",
    "if __name__ == '__main__':\n",
    "    s = [BOARD_EMPTY for _ in range(9)]\n",
    "    print('|------- WELCOME TO TIC TAC TOE -----------|')\n",
    "    print('You are X while the Computer is O')\n",
    "\n",
    "    while terminal(s) is None:\n",
    "        play = player(s)\n",
    "        if play == BOARD_PLAYER_X:\n",
    "            print('\\n\\nIt is your turn', end='\\n\\n')\n",
    "            print_board(s)\n",
    "            move = int(input('Enter the number corresponding to your move [0-8]: '))\n",
    "\n",
    "            if not (0 <= move < 9) or s[move] != BOARD_EMPTY:\n",
    "                print('Invalid move. Please try again.')\n",
    "                continue\n",
    "\n",
    "            s = result(s, (BOARD_PLAYER_X, move))\n",
    "        else:\n",
    "            print('\\n\\nThe computer is playing its turn')\n",
    "            action = minimax(s, 0, float('-inf'), float('inf'), True)\n",
    "            s = result(s, action)\n",
    "\n",
    "        print_board(s)\n",
    "\n",
    "    winner = terminal(s)\n",
    "    if winner == BOARD_PLAYER_X:\n",
    "        print(\"You have won!\")\n",
    "    elif winner == BOARD_PLAYER_O:\n",
    "        print(\"You have lost!\")\n",
    "    else:\n",
    "        print(\"It's a tie.\")"
   ]
  },
  {
   "cell_type": "code",
   "execution_count": null,
   "id": "994581d0-94ff-4de0-ad0e-f1b3b767aabe",
   "metadata": {},
   "outputs": [],
   "source": []
  }
 ],
 "metadata": {
  "kernelspec": {
   "display_name": "Python 3 (ipykernel)",
   "language": "python",
   "name": "python3"
  },
  "language_info": {
   "codemirror_mode": {
    "name": "ipython",
    "version": 3
   },
   "file_extension": ".py",
   "mimetype": "text/x-python",
   "name": "python",
   "nbconvert_exporter": "python",
   "pygments_lexer": "ipython3",
   "version": "3.11.7"
  }
 },
 "nbformat": 4,
 "nbformat_minor": 5
}
